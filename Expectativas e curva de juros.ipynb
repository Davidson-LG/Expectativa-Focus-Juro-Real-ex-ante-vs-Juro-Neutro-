{
  "cells": [
    {
      "cell_type": "raw",
      "metadata": {},
      "source": [
        "---\n",
        "title: \"Relatório diário\"\n",
        "subtitle: \"Expectativas de mercado e curvas de juros\"\n",
        "format: html\n",
        "author: DIC-RF\n",
        "lang: pt\n",
        "title-block-banner: \"#0f0c0fff\"\n",
        "date: last-modified\n",
        "execute: \n",
        "  echo: false\n",
        "  warning: false\n",
        "---"
      ],
      "id": "b707daa6"
    },
    {
      "cell_type": "code",
      "metadata": {},
      "source": [
        "#| fig-align: center\n",
        "#| echo: false\n",
        "#| warning: false\n",
        "\n",
        "import pandas as pd\n",
        "import ipeadatapy as ipea\n",
        "from pyield import ntnb, ntnf, ltn\n",
        "from pyield import bday\n",
        "from pyield import bc\n",
        "from pyield import anbima\n",
        "from pyield import Interpolator\n",
        "import numpy as np\n",
        "import pyield as yd\n",
        "from pandas.tseries.offsets import BDay\n",
        "from pyield.anbima import intraday_ettj, last_ettj\n",
        "import datetime"
      ],
      "id": "d3c24bad",
      "execution_count": null,
      "outputs": []
    },
    {
      "cell_type": "code",
      "metadata": {},
      "source": [
        "#| fig-align: center\n",
        "#| warning: false\n",
        "#| echo: false\n",
        "\n",
        "dados_focus = pd.read_csv(filepath_or_buffer='https://olinda.bcb.gov.br/olinda/servico/Expectativas/versao/v1/odata/ExpectativasMercadoAnuais?$filter=Indicador%20eq%20'PIB%20Total'%20or%20Indicador%20eq%20'IPCA'%20or%20Indicador%20eq%20'C%C3%A2mbio'%20or%20Indicador%20eq%20'Selic'%20and%20baseCalculo%20eq%200&$format=text/csv')\n"
      ],
      "id": "452058bc",
      "execution_count": null,
      "outputs": []
    },
    {
      "cell_type": "markdown",
      "metadata": {},
      "source": [
        "# *Objetivo  do relatório*\n",
        "\n",
        "O presente documento tem como fim manter acompanhamento rotineiro do andamento das expectativas de mercado, bem como das curvas de juros, elementos imprescindíveis para a tomada de decisões no âmbito da alocação de capital.\n",
        "\n",
        "## *PIB*\n"
      ],
      "id": "f9934adc"
    }
  ],
  "metadata": {
    "kernelspec": {
      "name": "python3",
      "language": "python",
      "display_name": "Python 3 (ipykernel)"
    }
  },
  "nbformat": 4,
  "nbformat_minor": 5
}